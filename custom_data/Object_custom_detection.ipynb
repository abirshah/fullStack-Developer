{
  "nbformat": 4,
  "nbformat_minor": 0,
  "metadata": {
    "colab": {
      "name": "Object_custom_detection.ipynb",
      "provenance": [],
      "collapsed_sections": []
    },
    "kernelspec": {
      "name": "python3",
      "display_name": "Python 3"
    },
    "language_info": {
      "name": "python"
    },
    "accelerator": "GPU"
  },
  "cells": [
    {
      "cell_type": "code",
      "metadata": {
        "id": "uFFQ82Dr4u_w"
      },
      "source": [
        ""
      ],
      "execution_count": null,
      "outputs": []
    },
    {
      "cell_type": "code",
      "metadata": {
        "colab": {
          "base_uri": "https://localhost:8080/"
        },
        "id": "ayDXfbYZzDm6",
        "outputId": "7932d742-2bf5-4954-f4ab-94f6e14350a1"
      },
      "source": [
        "from google.colab import drive\n",
        "drive.mount('/content/drive')"
      ],
      "execution_count": null,
      "outputs": [
        {
          "output_type": "stream",
          "name": "stdout",
          "text": [
            "Drive already mounted at /content/drive; to attempt to forcibly remount, call drive.mount(\"/content/drive\", force_remount=True).\n"
          ]
        }
      ]
    },
    {
      "cell_type": "code",
      "metadata": {
        "colab": {
          "base_uri": "https://localhost:8080/"
        },
        "id": "vfHYZy4Z0uCR",
        "outputId": "e302ed86-e554-4ad5-993e-c0bbe1d245ff"
      },
      "source": [
        "!ls '/content/drive/My Drive/yolo_custom_model_Traning'"
      ],
      "execution_count": null,
      "outputs": [
        {
          "output_type": "stream",
          "name": "stdout",
          "text": [
            "shell-init: error retrieving current directory: getcwd: cannot access parent directories: No such file or directory\n",
            "backup\tcustom_data  custom_data.zip  custom_weight  darknet\n"
          ]
        }
      ]
    },
    {
      "cell_type": "code",
      "metadata": {
        "id": "38EFzqOD4xlj"
      },
      "source": [
        "#!unzip '/content/drive/My Drive/yolo_custom_model_Traning/custom_data.zip' -d '/content/drive/My Drive/yolo_custom_model_Traning'"
      ],
      "execution_count": null,
      "outputs": []
    },
    {
      "cell_type": "code",
      "metadata": {
        "id": "6UomDb5A5gsr",
        "colab": {
          "base_uri": "https://localhost:8080/"
        },
        "outputId": "1aecdc1c-5709-40ef-bd6b-890972417edb"
      },
      "source": [
        "!git clone 'https://github.com/pjreddie/darknet' '/content/drive/My Drive/yolo_custom_model_Traning/darknet'"
      ],
      "execution_count": null,
      "outputs": [
        {
          "output_type": "stream",
          "name": "stdout",
          "text": [
            "shell-init: error retrieving current directory: getcwd: cannot access parent directories: No such file or directory\n",
            "Cloning into '/content/drive/My Drive/yolo_custom_model_Traning/darknet'...\n",
            "fatal: Unable to read current working directory: No such file or directory\n"
          ]
        }
      ]
    },
    {
      "cell_type": "code",
      "metadata": {
        "colab": {
          "base_uri": "https://localhost:8080/"
        },
        "id": "VrDfvrcA6_x9",
        "outputId": "fffd4c2f-e77a-4636-ea6f-acb3bb2242d0"
      },
      "source": [
        "%cd '/content/drive/My Drive/yolo_custom_model_Traning/darknet'"
      ],
      "execution_count": null,
      "outputs": [
        {
          "output_type": "stream",
          "name": "stdout",
          "text": [
            "/content/drive/My Drive/yolo_custom_model_Traning/darknet\n"
          ]
        }
      ]
    },
    {
      "cell_type": "code",
      "metadata": {
        "colab": {
          "base_uri": "https://localhost:8080/"
        },
        "id": "Xt4PYHOh7H_u",
        "outputId": "1f3e4c6e-dfb1-47bb-8674-280c152cccab"
      },
      "source": [
        "!ls"
      ],
      "execution_count": null,
      "outputs": [
        {
          "output_type": "stream",
          "name": "stdout",
          "text": [
            "3rdparty\tDarknetConfig.cmake.in\tinclude\t\t       README.md\n",
            "backup\t\tdarknet_images.py\tjson_mjpeg_streams.sh  results\n",
            "build\t\tdarknet.py\t\tLICENSE\t\t       scripts\n",
            "build.ps1\tdarknet_video.py\tMakefile\t       src\n",
            "cfg\t\tdata\t\t\tnet_cam_v3.sh\t       vcpkg.json\n",
            "cmake\t\timage_yolov3.sh\t\tnet_cam_v4.sh\t       video_yolov3.sh\n",
            "CMakeLists.txt\timage_yolov4.sh\t\tobj\t\t       video_yolov4.sh\n"
          ]
        }
      ]
    },
    {
      "cell_type": "code",
      "metadata": {
        "id": "VQFm2oI17a6y",
        "colab": {
          "base_uri": "https://localhost:8080/"
        },
        "outputId": "f4475b56-c685-45ce-f730-b95144e170d6"
      },
      "source": [
        "!make"
      ],
      "execution_count": null,
      "outputs": [
        {
          "output_type": "stream",
          "name": "stdout",
          "text": [
            "chmod +x *.sh\n",
            "g++ -std=c++11 -std=c++11 -Iinclude/ -I3rdparty/stb/include -DOPENCV `pkg-config --cflags opencv4 2> /dev/null || pkg-config --cflags opencv` -DGPU -I/usr/local/cuda/include/ -DCUDNN -Wall -Wfatal-errors -Wno-unused-result -Wno-unknown-pragmas -fPIC -Ofast -DOPENCV -DGPU -DCUDNN -I/usr/local/cudnn/include obj/image_opencv.o obj/http_stream.o obj/gemm.o obj/utils.o obj/dark_cuda.o obj/convolutional_layer.o obj/list.o obj/image.o obj/activations.o obj/im2col.o obj/col2im.o obj/blas.o obj/crop_layer.o obj/dropout_layer.o obj/maxpool_layer.o obj/softmax_layer.o obj/data.o obj/matrix.o obj/network.o obj/connected_layer.o obj/cost_layer.o obj/parser.o obj/option_list.o obj/darknet.o obj/detection_layer.o obj/captcha.o obj/route_layer.o obj/writing.o obj/box.o obj/nightmare.o obj/normalization_layer.o obj/avgpool_layer.o obj/coco.o obj/dice.o obj/yolo.o obj/detector.o obj/layer.o obj/compare.o obj/classifier.o obj/local_layer.o obj/swag.o obj/shortcut_layer.o obj/representation_layer.o obj/activation_layer.o obj/rnn_layer.o obj/gru_layer.o obj/rnn.o obj/rnn_vid.o obj/crnn_layer.o obj/demo.o obj/tag.o obj/cifar.o obj/go.o obj/batchnorm_layer.o obj/art.o obj/region_layer.o obj/reorg_layer.o obj/reorg_old_layer.o obj/super.o obj/voxel.o obj/tree.o obj/yolo_layer.o obj/gaussian_yolo_layer.o obj/upsample_layer.o obj/lstm_layer.o obj/conv_lstm_layer.o obj/scale_channels_layer.o obj/sam_layer.o obj/convolutional_kernels.o obj/activation_kernels.o obj/im2col_kernels.o obj/col2im_kernels.o obj/blas_kernels.o obj/crop_layer_kernels.o obj/dropout_layer_kernels.o obj/maxpool_layer_kernels.o obj/network_kernels.o obj/avgpool_layer_kernels.o -o darknet -lm -pthread `pkg-config --libs opencv4 2> /dev/null || pkg-config --libs opencv` -L/usr/local/cuda/lib64 -lcuda -lcudart -lcublas -lcurand -L/usr/local/cudnn/lib64 -lcudnn -lstdc++\n",
            "obj/im2col_kernels.o: In function `transpose_32x32_bits_reversed_diagonale':\n",
            "tmpxft_000001a9_00000000-6_im2col_kernels.compute_61.cudafe1.cpp:(.text+0x140): multiple definition of `transpose_32x32_bits_reversed_diagonale'\n",
            "obj/gemm.o:gemm.c:(.text+0xfe0): first defined here\n",
            "obj/convolutional_kernels.o: In function `pull_convolutional_layer':\n",
            "tmpxft_00000147_00000000-6_convolutional_kernels.compute_61.cudafe1.cpp:(.text+0x4e): undefined reference to `cuda_pull_array_async'\n",
            "tmpxft_00000147_00000000-6_convolutional_kernels.compute_61.cudafe1.cpp:(.text+0x66): undefined reference to `cuda_pull_array_async'\n",
            "tmpxft_00000147_00000000-6_convolutional_kernels.compute_61.cudafe1.cpp:(.text+0x7e): undefined reference to `cuda_pull_array_async'\n",
            "tmpxft_00000147_00000000-6_convolutional_kernels.compute_61.cudafe1.cpp:(.text+0x96): undefined reference to `cuda_pull_array_async'\n",
            "tmpxft_00000147_00000000-6_convolutional_kernels.compute_61.cudafe1.cpp:(.text+0xc4): undefined reference to `cuda_pull_array_async'\n",
            "obj/convolutional_kernels.o:tmpxft_00000147_00000000-6_convolutional_kernels.compute_61.cudafe1.cpp:(.text+0xdc): more undefined references to `cuda_pull_array_async' follow\n",
            "obj/convolutional_kernels.o: In function `pull_convolutional_layer':\n",
            "tmpxft_00000147_00000000-6_convolutional_kernels.compute_61.cudafe1.cpp:(.text+0xfb): undefined reference to `check_error_extended'\n",
            "tmpxft_00000147_00000000-6_convolutional_kernels.compute_61.cudafe1.cpp:(.text+0x100): undefined reference to `get_cuda_stream'\n",
            "tmpxft_00000147_00000000-6_convolutional_kernels.compute_61.cudafe1.cpp:(.text+0x134): undefined reference to `cuda_pull_array_async'\n",
            "tmpxft_00000147_00000000-6_convolutional_kernels.compute_61.cudafe1.cpp:(.text+0x14c): undefined reference to `cuda_pull_array_async'\n",
            "tmpxft_00000147_00000000-6_convolutional_kernels.compute_61.cudafe1.cpp:(.text+0x164): undefined reference to `cuda_pull_array_async'\n",
            "obj/convolutional_kernels.o: In function `push_convolutional_layer':\n",
            "tmpxft_00000147_00000000-6_convolutional_kernels.compute_61.cudafe1.cpp:(.text+0x19a): undefined reference to `cuda_push_array'\n",
            "tmpxft_00000147_00000000-6_convolutional_kernels.compute_61.cudafe1.cpp:(.text+0x1b2): undefined reference to `cuda_push_array'\n",
            "tmpxft_00000147_00000000-6_convolutional_kernels.compute_61.cudafe1.cpp:(.text+0x1e9): undefined reference to `cuda_push_array'\n",
            "tmpxft_00000147_00000000-6_convolutional_kernels.compute_61.cudafe1.cpp:(.text+0x201): undefined reference to `cuda_push_array'\n",
            "tmpxft_00000147_00000000-6_convolutional_kernels.compute_61.cudafe1.cpp:(.text+0x244): undefined reference to `cuda_push_array'\n",
            "obj/convolutional_kernels.o:tmpxft_00000147_00000000-6_convolutional_kernels.compute_61.cudafe1.cpp:(.text+0x25c): more undefined references to `cuda_push_array' follow\n",
            "obj/convolutional_kernels.o: In function `binarize_gpu(float*, int, float*)':\n",
            "tmpxft_00000147_00000000-6_convolutional_kernels.compute_61.cudafe1.cpp:(.text+0xaa3): undefined reference to `get_cuda_stream'\n",
            "tmpxft_00000147_00000000-6_convolutional_kernels.compute_61.cudafe1.cpp:(.text+0xac5): undefined reference to `cuda_gridsize'\n",
            "obj/convolutional_kernels.o: In function `binarize_input_gpu(float*, int, int, float*)':\n",
            "tmpxft_00000147_00000000-6_convolutional_kernels.compute_61.cudafe1.cpp:(.text+0xc68): undefined reference to `get_cuda_stream'\n",
            "tmpxft_00000147_00000000-6_convolutional_kernels.compute_61.cudafe1.cpp:(.text+0xc8a): undefined reference to `cuda_gridsize'\n",
            "obj/convolutional_kernels.o: In function `binarize_weights_gpu(float*, int, int, float*)':\n",
            "tmpxft_00000147_00000000-6_convolutional_kernels.compute_61.cudafe1.cpp:(.text+0xe38): undefined reference to `get_cuda_stream'\n",
            "tmpxft_00000147_00000000-6_convolutional_kernels.compute_61.cudafe1.cpp:(.text+0xe5a): undefined reference to `cuda_gridsize'\n",
            "obj/convolutional_kernels.o: In function `fast_binarize_weights_gpu(float*, int, int, float*, float*)':\n",
            "tmpxft_00000147_00000000-6_convolutional_kernels.compute_61.cudafe1.cpp:(.text+0x126f): undefined reference to `get_number_of_blocks'\n",
            "tmpxft_00000147_00000000-6_convolutional_kernels.compute_61.cudafe1.cpp:(.text+0x1277): undefined reference to `get_cuda_stream'\n",
            "tmpxft_00000147_00000000-6_convolutional_kernels.compute_61.cudafe1.cpp:(.text+0x12cb): undefined reference to `get_cuda_stream'\n",
            "tmpxft_00000147_00000000-6_convolutional_kernels.compute_61.cudafe1.cpp:(.text+0x130f): undefined reference to `get_cuda_stream'\n",
            "obj/convolutional_kernels.o: In function `cuda_convert_f32_to_f16':\n",
            "tmpxft_00000147_00000000-6_convolutional_kernels.compute_61.cudafe1.cpp:(.text+0x14e4): undefined reference to `get_cuda_stream'\n",
            "tmpxft_00000147_00000000-6_convolutional_kernels.compute_61.cudafe1.cpp:(.text+0x150a): undefined reference to `get_number_of_blocks'\n",
            "obj/convolutional_kernels.o: In function `cuda_make_f16_from_f32_array(float*, unsigned long)':\n",
            "tmpxft_00000147_00000000-6_convolutional_kernels.compute_61.cudafe1.cpp:(.text+0x15bd): undefined reference to `check_error_extended'\n",
            "obj/convolutional_kernels.o: In function `cuda_convert_f16_to_f32(float*, unsigned long, float*)':\n",
            "tmpxft_00000147_00000000-6_convolutional_kernels.compute_61.cudafe1.cpp:(.text+0x1774): undefined reference to `get_cuda_stream'\n",
            "tmpxft_00000147_00000000-6_convolutional_kernels.compute_61.cudafe1.cpp:(.text+0x179a): undefined reference to `get_number_of_blocks'\n",
            "obj/convolutional_kernels.o: In function `backward_convolutional_layer_gpu':\n",
            "tmpxft_00000147_00000000-6_convolutional_kernels.compute_61.cudafe1.cpp:(.text+0x1a88): undefined reference to `cudnn_handle'\n",
            "tmpxft_00000147_00000000-6_convolutional_kernels.compute_61.cudafe1.cpp:(.text+0x1ade): undefined reference to `cudnn_check_error_extended'\n",
            "tmpxft_00000147_00000000-6_convolutional_kernels.compute_61.cudafe1.cpp:(.text+0x1cbd): undefined reference to `backward_batchnorm_layer_gpu'\n",
            "tmpxft_00000147_00000000-6_convolutional_kernels.compute_61.cudafe1.cpp:(.text+0x1e11): undefined reference to `cuda_free'\n",
            "tmpxft_00000147_00000000-6_convolutional_kernels.compute_61.cudafe1.cpp:(.text+0x1e60): undefined reference to `cuda_free'\n",
            "tmpxft_00000147_00000000-6_convolutional_kernels.compute_61.cudafe1.cpp:(.text+0x1f52): undefined reference to `cudnn_handle'\n",
            "tmpxft_00000147_00000000-6_convolutional_kernels.compute_61.cudafe1.cpp:(.text+0x1fc8): undefined reference to `cudnn_check_error_extended'\n",
            "tmpxft_00000147_00000000-6_convolutional_kernels.compute_61.cudafe1.cpp:(.text+0x20ad): undefined reference to `cudnn_handle'\n",
            "tmpxft_00000147_00000000-6_convolutional_kernels.compute_61.cudafe1.cpp:(.text+0x210a): undefined reference to `cudnn_check_error_extended'\n",
            "tmpxft_00000147_00000000-6_convolutional_kernels.compute_61.cudafe1.cpp:(.text+0x21cf): undefined reference to `cudnn_handle'\n",
            "tmpxft_00000147_00000000-6_convolutional_kernels.compute_61.cudafe1.cpp:(.text+0x222a): undefined reference to `cudnn_check_error_extended'\n",
            "tmpxft_00000147_00000000-6_convolutional_kernels.compute_61.cudafe1.cpp:(.text+0x23c5): undefined reference to `cudnn_handle'\n",
            "tmpxft_00000147_00000000-6_convolutional_kernels.compute_61.cudafe1.cpp:(.text+0x241c): undefined reference to `cudnn_check_error_extended'\n",
            "obj/convolutional_kernels.o: In function `calc_avg_activation_gpu(float*, float*, int, int, int)':\n",
            "tmpxft_00000147_00000000-6_convolutional_kernels.compute_61.cudafe1.cpp:(.text+0x2668): undefined reference to `get_number_of_blocks'\n",
            "tmpxft_00000147_00000000-6_convolutional_kernels.compute_61.cudafe1.cpp:(.text+0x2670): undefined reference to `get_cuda_stream'\n",
            "obj/convolutional_kernels.o: In function `assisted_activation_gpu(float, float*, float*, float*, int, int, int)':\n",
            "tmpxft_00000147_00000000-6_convolutional_kernels.compute_61.cudafe1.cpp:(.text+0x2883): undefined reference to `get_number_of_blocks'\n",
            "tmpxft_00000147_00000000-6_convolutional_kernels.compute_61.cudafe1.cpp:(.text+0x288b): undefined reference to `get_cuda_stream'\n",
            "obj/convolutional_kernels.o: In function `assisted_excitation_forward_gpu':\n",
            "tmpxft_00000147_00000000-6_convolutional_kernels.compute_61.cudafe1.cpp:(.text+0x2aa2): undefined reference to `cuda_pull_array'\n",
            "tmpxft_00000147_00000000-6_convolutional_kernels.compute_61.cudafe1.cpp:(.text+0x2ced): undefined reference to `cuda_push_array'\n",
            "obj/convolutional_kernels.o: In function `forward_convolutional_layer_gpu':\n",
            "tmpxft_00000147_00000000-6_convolutional_kernels.compute_61.cudafe1.cpp:(.text+0x2e48): undefined reference to `switch_stream'\n",
            "tmpxft_00000147_00000000-6_convolutional_kernels.compute_61.cudafe1.cpp:(.text+0x2e58): undefined reference to `wait_stream'\n",
            "tmpxft_00000147_00000000-6_convolutional_kernels.compute_61.cudafe1.cpp:(.text+0x2ff2): undefined reference to `cudnn_handle'\n",
            "tmpxft_00000147_00000000-6_convolutional_kernels.compute_61.cudafe1.cpp:(.text+0x305d): undefined reference to `cudnn_check_error_extended'\n",
            "tmpxft_00000147_00000000-6_convolutional_kernels.compute_61.cudafe1.cpp:(.text+0x31fc): undefined reference to `forward_batchnorm_layer_gpu'\n",
            "tmpxft_00000147_00000000-6_convolutional_kernels.compute_61.cudafe1.cpp:(.text+0x3552): undefined reference to `cuda_free'\n",
            "tmpxft_00000147_00000000-6_convolutional_kernels.compute_61.cudafe1.cpp:(.text+0x35a9): undefined reference to `cuda_free'\n",
            "tmpxft_00000147_00000000-6_convolutional_kernels.compute_61.cudafe1.cpp:(.text+0x3654): undefined reference to `cudnn_handle'\n",
            "tmpxft_00000147_00000000-6_convolutional_kernels.compute_61.cudafe1.cpp:(.text+0x36c6): undefined reference to `cudnn_check_error_extended'\n",
            "tmpxft_00000147_00000000-6_convolutional_kernels.compute_61.cudafe1.cpp:(.text+0x3e0b): undefined reference to `cudnn_handle'\n",
            "tmpxft_00000147_00000000-6_convolutional_kernels.compute_61.cudafe1.cpp:(.text+0x3e98): undefined reference to `cudnn_check_error_extended'\n",
            "obj/convolutional_kernels.o: In function `assisted_activation2_gpu(float, float*, float*, float*, int, int, int)':\n",
            "tmpxft_00000147_00000000-6_convolutional_kernels.compute_61.cudafe1.cpp:(.text+0x40d3): undefined reference to `get_number_of_blocks'\n",
            "tmpxft_00000147_00000000-6_convolutional_kernels.compute_61.cudafe1.cpp:(.text+0x40db): undefined reference to `get_cuda_stream'\n",
            "obj/convolutional_kernels.o: In function `push_convolutional_layer':\n",
            "tmpxft_00000147_00000000-6_convolutional_kernels.compute_61.cudafe1.cpp:(.text+0x226): undefined reference to `check_error_extended'\n",
            "obj/convolutional_kernels.o: In function `binarize_gpu(float*, int, float*)':\n",
            "tmpxft_00000147_00000000-6_convolutional_kernels.compute_61.cudafe1.cpp:(.text+0xb19): undefined reference to `check_error_extended'\n",
            "obj/convolutional_kernels.o: In function `binarize_input_gpu(float*, int, int, float*)':\n",
            "tmpxft_00000147_00000000-6_convolutional_kernels.compute_61.cudafe1.cpp:(.text+0xce3): undefined reference to `check_error_extended'\n",
            "obj/convolutional_kernels.o: In function `binarize_weights_gpu(float*, int, int, float*)':\n",
            "tmpxft_00000147_00000000-6_convolutional_kernels.compute_61.cudafe1.cpp:(.text+0xeb3): undefined reference to `check_error_extended'\n",
            "obj/convolutional_kernels.o: In function `fast_binarize_weights_gpu(float*, int, int, float*, float*)':\n",
            "tmpxft_00000147_00000000-6_convolutional_kernels.compute_61.cudafe1.cpp:(.text+0x1389): undefined reference to `check_error_extended'\n",
            "obj/convolutional_kernels.o:tmpxft_00000147_00000000-6_convolutional_kernels.compute_61.cudafe1.cpp:(.text+0x1575): more undefined references to `check_error_extended' follow\n",
            "obj/activation_kernels.o: In function `binary_gradient_array_gpu':\n",
            "tmpxft_0000017a_00000000-6_activation_kernels.compute_61.cudafe1.cpp:(.text+0x6b2): undefined reference to `get_cuda_stream'\n",
            "tmpxft_0000017a_00000000-6_activation_kernels.compute_61.cudafe1.cpp:(.text+0x6e2): undefined reference to `cuda_gridsize'\n",
            "obj/activation_kernels.o: In function `binary_activate_array_gpu':\n",
            "tmpxft_0000017a_00000000-6_activation_kernels.compute_61.cudafe1.cpp:(.text+0x8bf): undefined reference to `get_cuda_stream'\n",
            "tmpxft_0000017a_00000000-6_activation_kernels.compute_61.cudafe1.cpp:(.text+0x8ee): undefined reference to `cuda_gridsize'\n",
            "obj/activation_kernels.o: In function `activate_array_swish_ongpu':\n",
            "tmpxft_0000017a_00000000-6_activation_kernels.compute_61.cudafe1.cpp:(.text+0xbbf): undefined reference to `get_number_of_blocks'\n",
            "tmpxft_0000017a_00000000-6_activation_kernels.compute_61.cudafe1.cpp:(.text+0xbc4): undefined reference to `get_cuda_stream'\n",
            "tmpxft_0000017a_00000000-6_activation_kernels.compute_61.cudafe1.cpp:(.text+0xbe6): undefined reference to `cuda_gridsize'\n",
            "obj/activation_kernels.o: In function `activate_array_mish_ongpu':\n",
            "tmpxft_0000017a_00000000-6_activation_kernels.compute_61.cudafe1.cpp:(.text+0xdaf): undefined reference to `get_number_of_blocks'\n",
            "tmpxft_0000017a_00000000-6_activation_kernels.compute_61.cudafe1.cpp:(.text+0xdb4): undefined reference to `get_cuda_stream'\n",
            "tmpxft_0000017a_00000000-6_activation_kernels.compute_61.cudafe1.cpp:(.text+0xdd6): undefined reference to `cuda_gridsize'\n",
            "obj/activation_kernels.o: In function `activate_array_hard_mish_ongpu':\n",
            "tmpxft_0000017a_00000000-6_activation_kernels.compute_61.cudafe1.cpp:(.text+0xf9f): undefined reference to `get_number_of_blocks'\n",
            "tmpxft_0000017a_00000000-6_activation_kernels.compute_61.cudafe1.cpp:(.text+0xfa4): undefined reference to `get_cuda_stream'\n",
            "tmpxft_0000017a_00000000-6_activation_kernels.compute_61.cudafe1.cpp:(.text+0xfc6): undefined reference to `cuda_gridsize'\n",
            "obj/activation_kernels.o: In function `activate_array_ongpu':\n",
            "tmpxft_0000017a_00000000-6_activation_kernels.compute_61.cudafe1.cpp:(.text+0x1849): undefined reference to `get_number_of_blocks'\n",
            "tmpxft_0000017a_00000000-6_activation_kernels.compute_61.cudafe1.cpp:(.text+0x18a4): undefined reference to `get_cuda_stream'\n",
            "tmpxft_0000017a_00000000-6_activation_kernels.compute_61.cudafe1.cpp:(.text+0x18c6): undefined reference to `cuda_gridsize'\n",
            "tmpxft_0000017a_00000000-6_activation_kernels.compute_61.cudafe1.cpp:(.text+0x1929): undefined reference to `get_cuda_stream'\n",
            "tmpxft_0000017a_00000000-6_activation_kernels.compute_61.cudafe1.cpp:(.text+0x1981): undefined reference to `get_cuda_stream'\n",
            "tmpxft_0000017a_00000000-6_activation_kernels.compute_61.cudafe1.cpp:(.text+0x19d9): undefined reference to `get_cuda_stream'\n",
            "tmpxft_0000017a_00000000-6_activation_kernels.compute_61.cudafe1.cpp:(.text+0x1a31): undefined reference to `get_cuda_stream'\n",
            "tmpxft_0000017a_00000000-6_activation_kernels.compute_61.cudafe1.cpp:(.text+0x1a89): undefined reference to `get_cuda_stream'\n",
            "obj/activation_kernels.o:tmpxft_0000017a_00000000-6_activation_kernels.compute_61.cudafe1.cpp:(.text+0x1ae1): more undefined references to `get_cuda_stream' follow\n",
            "obj/activation_kernels.o: In function `gradient_array_swish_ongpu':\n",
            "tmpxft_0000017a_00000000-6_activation_kernels.compute_61.cudafe1.cpp:(.text+0x1e8f): undefined reference to `get_number_of_blocks'\n",
            "tmpxft_0000017a_00000000-6_activation_kernels.compute_61.cudafe1.cpp:(.text+0x1e94): undefined reference to `get_cuda_stream'\n",
            "tmpxft_0000017a_00000000-6_activation_kernels.compute_61.cudafe1.cpp:(.text+0x1eb6): undefined reference to `cuda_gridsize'\n",
            "obj/activation_kernels.o: In function `gradient_array_mish_ongpu':\n",
            "tmpxft_0000017a_00000000-6_activation_kernels.compute_61.cudafe1.cpp:(.text+0x2048): undefined reference to `get_number_of_blocks'\n",
            "tmpxft_0000017a_00000000-6_activation_kernels.compute_61.cudafe1.cpp:(.text+0x204d): undefined reference to `get_cuda_stream'\n",
            "tmpxft_0000017a_00000000-6_activation_kernels.compute_61.cudafe1.cpp:(.text+0x206f): undefined reference to `cuda_gridsize'\n",
            "obj/activation_kernels.o: In function `gradient_array_hard_mish_ongpu':\n",
            "tmpxft_0000017a_00000000-6_activation_kernels.compute_61.cudafe1.cpp:(.text+0x21f8): undefined reference to `get_number_of_blocks'\n",
            "tmpxft_0000017a_00000000-6_activation_kernels.compute_61.cudafe1.cpp:(.text+0x21fd): undefined reference to `get_cuda_stream'\n",
            "tmpxft_0000017a_00000000-6_activation_kernels.compute_61.cudafe1.cpp:(.text+0x221f): undefined reference to `cuda_gridsize'\n",
            "obj/activation_kernels.o: In function `gradient_array_ongpu':\n",
            "tmpxft_0000017a_00000000-6_activation_kernels.compute_61.cudafe1.cpp:(.text+0x2c2e): undefined reference to `get_number_of_blocks'\n",
            "tmpxft_0000017a_00000000-6_activation_kernels.compute_61.cudafe1.cpp:(.text+0x2c9b): undefined reference to `get_cuda_stream'\n",
            "tmpxft_0000017a_00000000-6_activation_kernels.compute_61.cudafe1.cpp:(.text+0x2cbd): undefined reference to `cuda_gridsize'\n",
            "tmpxft_0000017a_00000000-6_activation_kernels.compute_61.cudafe1.cpp:(.text+0x2d01): undefined reference to `get_cuda_stream'\n",
            "tmpxft_0000017a_00000000-6_activation_kernels.compute_61.cudafe1.cpp:(.text+0x2d71): undefined reference to `get_cuda_stream'\n",
            "tmpxft_0000017a_00000000-6_activation_kernels.compute_61.cudafe1.cpp:(.text+0x2dc1): undefined reference to `get_cuda_stream'\n",
            "tmpxft_0000017a_00000000-6_activation_kernels.compute_61.cudafe1.cpp:(.text+0x2e21): undefined reference to `get_cuda_stream'\n",
            "tmpxft_0000017a_00000000-6_activation_kernels.compute_61.cudafe1.cpp:(.text+0x2e81): undefined reference to `get_cuda_stream'\n",
            "obj/activation_kernels.o:tmpxft_0000017a_00000000-6_activation_kernels.compute_61.cudafe1.cpp:(.text+0x2ee1): more undefined references to `get_cuda_stream' follow\n",
            "obj/activation_kernels.o: In function `activate_array_normalize_channels_ongpu':\n",
            "tmpxft_0000017a_00000000-6_activation_kernels.compute_61.cudafe1.cpp:(.text+0x321e): undefined reference to `get_number_of_blocks'\n",
            "tmpxft_0000017a_00000000-6_activation_kernels.compute_61.cudafe1.cpp:(.text+0x3225): undefined reference to `get_cuda_stream'\n",
            "obj/activation_kernels.o: In function `activate_array_normalize_channels_softmax_ongpu':\n",
            "tmpxft_0000017a_00000000-6_activation_kernels.compute_61.cudafe1.cpp:(.text+0x3463): undefined reference to `get_number_of_blocks'\n",
            "tmpxft_0000017a_00000000-6_activation_kernels.compute_61.cudafe1.cpp:(.text+0x346a): undefined reference to `get_cuda_stream'\n",
            "obj/activation_kernels.o: In function `gradient_array_normalize_channels_softmax_ongpu':\n",
            "tmpxft_0000017a_00000000-6_activation_kernels.compute_61.cudafe1.cpp:(.text+0x369e): undefined reference to `get_number_of_blocks'\n",
            "tmpxft_0000017a_00000000-6_activation_kernels.compute_61.cudafe1.cpp:(.text+0x36a5): undefined reference to `get_cuda_stream'\n",
            "obj/activation_kernels.o: In function `gradient_array_normalize_channels_ongpu':\n",
            "tmpxft_0000017a_00000000-6_activation_kernels.compute_61.cudafe1.cpp:(.text+0x38ce): undefined reference to `get_number_of_blocks'\n",
            "tmpxft_0000017a_00000000-6_activation_kernels.compute_61.cudafe1.cpp:(.text+0x38d5): undefined reference to `get_cuda_stream'\n",
            "obj/activation_kernels.o: In function `binary_gradient_array_gpu':\n",
            "tmpxft_0000017a_00000000-6_activation_kernels.compute_61.cudafe1.cpp:(.text+0x744): undefined reference to `check_error_extended'\n",
            "obj/activation_kernels.o: In function `binary_activate_array_gpu':\n",
            "tmpxft_0000017a_00000000-6_activation_kernels.compute_61.cudafe1.cpp:(.text+0x94c): undefined reference to `check_error_extended'\n",
            "obj/activation_kernels.o: In function `activate_array_swish_ongpu':\n",
            "tmpxft_0000017a_00000000-6_activation_kernels.compute_61.cudafe1.cpp:(.text+0xc3f): undefined reference to `check_error_extended'\n",
            "obj/activation_kernels.o: In function `activate_array_mish_ongpu':\n",
            "tmpxft_0000017a_00000000-6_activation_kernels.compute_61.cudafe1.cpp:(.text+0xe2f): undefined reference to `check_error_extended'\n",
            "obj/activation_kernels.o: In function `activate_array_hard_mish_ongpu':\n",
            "tmpxft_0000017a_00000000-6_activation_kernels.compute_61.cudafe1.cpp:(.text+0x101f): undefined reference to `check_error_extended'\n",
            "obj/activation_kernels.o:tmpxft_0000017a_00000000-6_activation_kernels.compute_61.cudafe1.cpp:(.text+0x1911): more undefined references to `check_error_extended' follow\n",
            "obj/im2col_kernels.o: In function `im2col_ongpu':\n",
            "tmpxft_000001a9_00000000-6_im2col_kernels.compute_61.cudafe1.cpp:(.text+0x382): undefined reference to `get_cuda_stream'\n",
            "obj/im2col_kernels.o: In function `im2col_align_ongpu':\n",
            "tmpxft_000001a9_00000000-6_im2col_kernels.compute_61.cudafe1.cpp:(.text+0x67d): undefined reference to `get_cuda_stream'\n",
            "obj/im2col_kernels.o: In function `im2col_align_bin_ongpu':\n",
            "tmpxft_000001a9_00000000-6_im2col_kernels.compute_61.cudafe1.cpp:(.text+0x96e): undefined reference to `get_cuda_stream'\n",
            "obj/im2col_kernels.o: In function `float_to_bit_gpu':\n",
            "tmpxft_000001a9_00000000-6_im2col_kernels.compute_61.cudafe1.cpp:(.text+0xb6b): undefined reference to `get_number_of_blocks'\n",
            "tmpxft_000001a9_00000000-6_im2col_kernels.compute_61.cudafe1.cpp:(.text+0xb72): undefined reference to `get_cuda_stream'\n",
            "obj/im2col_kernels.o: In function `transpose_bin_gpu':\n",
            "tmpxft_000001a9_00000000-6_im2col_kernels.compute_61.cudafe1.cpp:(.text+0xf16): undefined reference to `get_cuda_stream'\n",
            "obj/im2col_kernels.o: In function `transpose_uint32_gpu':\n",
            "tmpxft_000001a9_00000000-6_im2col_kernels.compute_61.cudafe1.cpp:(.text+0x115f): undefined reference to `get_cuda_stream'\n",
            "obj/im2col_kernels.o: In function `transpose_uint32_gpu_2':\n",
            "tmpxft_000001a9_00000000-6_im2col_kernels.compute_61.cudafe1.cpp:(.text+0x138f): undefined reference to `get_cuda_stream'\n",
            "obj/im2col_kernels.o: In function `repack_input_gpu':\n",
            "tmpxft_000001a9_00000000-6_im2col_kernels.compute_61.cudafe1.cpp:(.text+0x15ba): undefined reference to `get_cuda_stream'\n",
            "obj/im2col_kernels.o:tmpxft_000001a9_00000000-6_im2col_kernels.compute_61.cudafe1.cpp:(.text+0x17ca): more undefined references to `get_cuda_stream' follow\n",
            "obj/im2col_kernels.o: In function `repack_input_gpu_bin':\n",
            "tmpxft_000001a9_00000000-6_im2col_kernels.compute_61.cudafe1.cpp:(.text+0x19fb): undefined reference to `get_number_of_blocks'\n",
            "tmpxft_000001a9_00000000-6_im2col_kernels.compute_61.cudafe1.cpp:(.text+0x1a03): undefined reference to `get_cuda_stream'\n",
            "obj/im2col_kernels.o: In function `fill_int8_gpu':\n",
            "tmpxft_000001a9_00000000-6_im2col_kernels.compute_61.cudafe1.cpp:(.text+0x1bb1): undefined reference to `get_cuda_stream'\n",
            "obj/im2col_kernels.o: In function `gemm_nn_custom_bin_mean_transposed_gpu':\n",
            "tmpxft_000001a9_00000000-6_im2col_kernels.compute_61.cudafe1.cpp:(.text+0x1ef3): undefined reference to `get_number_of_blocks'\n",
            "tmpxft_000001a9_00000000-6_im2col_kernels.compute_61.cudafe1.cpp:(.text+0x1f42): undefined reference to `get_number_of_blocks'\n",
            "tmpxft_000001a9_00000000-6_im2col_kernels.compute_61.cudafe1.cpp:(.text+0x1f4a): undefined reference to `get_cuda_stream'\n",
            "obj/im2col_kernels.o: In function `convolve_gpu':\n",
            "tmpxft_000001a9_00000000-6_im2col_kernels.compute_61.cudafe1.cpp:(.text+0x241e): undefined reference to `get_cuda_stream'\n",
            "obj/im2col_kernels.o: In function `convolve_bin_gpu':\n",
            "tmpxft_000001a9_00000000-6_im2col_kernels.compute_61.cudafe1.cpp:(.text+0x2702): undefined reference to `get_cuda_stream'\n",
            "obj/im2col_kernels.o: In function `im2col_ongpu':\n",
            "tmpxft_000001a9_00000000-6_im2col_kernels.compute_61.cudafe1.cpp:(.text+0x42e): undefined reference to `check_error_extended'\n",
            "obj/im2col_kernels.o: In function `im2col_align_ongpu':\n",
            "tmpxft_000001a9_00000000-6_im2col_kernels.compute_61.cudafe1.cpp:(.text+0x732): undefined reference to `check_error_extended'\n",
            "obj/im2col_kernels.o: In function `im2col_align_bin_ongpu':\n",
            "tmpxft_000001a9_00000000-6_im2col_kernels.compute_61.cudafe1.cpp:(.text+0xa32): undefined reference to `check_error_extended'\n",
            "obj/im2col_kernels.o: In function `float_to_bit_gpu':\n",
            "tmpxft_000001a9_00000000-6_im2col_kernels.compute_61.cudafe1.cpp:(.text+0xbe3): undefined reference to `check_error_extended'\n",
            "obj/im2col_kernels.o: In function `transpose_bin_gpu':\n",
            "tmpxft_000001a9_00000000-6_im2col_kernels.compute_61.cudafe1.cpp:(.text+0xfc1): undefined reference to `check_error_extended'\n",
            "obj/im2col_kernels.o:tmpxft_000001a9_00000000-6_im2col_kernels.compute_61.cudafe1.cpp:(.text+0x11f1): more undefined references to `check_error_extended' follow\n",
            "obj/col2im_kernels.o: In function `col2im_ongpu':\n",
            "tmpxft_000001da_00000000-6_col2im_kernels.compute_61.cudafe1.cpp:(.text+0x206): undefined reference to `get_cuda_stream'\n",
            "tmpxft_000001da_00000000-6_col2im_kernels.compute_61.cudafe1.cpp:(.text+0x2c2): undefined reference to `check_error_extended'\n",
            "obj/col2im_kernels.o: In function `col2im_gpu_ext':\n",
            "tmpxft_000001da_00000000-6_col2im_kernels.compute_61.cudafe1.cpp:(.text+0x662): undefined reference to `check_error_extended'\n",
            "obj/blas_kernels.o: In function `memcpy_ongpu':\n",
            "tmpxft_00000207_00000000-6_blas_kernels.compute_61.cudafe1.cpp:(.text+0x1d): undefined reference to `get_cuda_stream'\n",
            "tmpxft_00000207_00000000-6_blas_kernels.compute_61.cudafe1.cpp:(.text+0x4d): undefined reference to `check_error_extended'\n",
            "obj/blas_kernels.o: In function `compare_2_arrays_gpu':\n",
            "tmpxft_00000207_00000000-6_blas_kernels.compute_61.cudafe1.cpp:(.text+0x26a): undefined reference to `get_number_of_blocks'\n",
            "tmpxft_00000207_00000000-6_blas_kernels.compute_61.cudafe1.cpp:(.text+0x271): undefined reference to `get_cuda_stream'\n",
            "tmpxft_00000207_00000000-6_blas_kernels.compute_61.cudafe1.cpp:(.text+0x2d7): undefined reference to `check_error_extended'\n",
            "obj/blas_kernels.o: In function `mean_array_gpu':\n",
            "tmpxft_00000207_00000000-6_blas_kernels.compute_61.cudafe1.cpp:(.text+0x460): undefined reference to `get_number_of_blocks'\n",
            "tmpxft_00000207_00000000-6_blas_kernels.compute_61.cudafe1.cpp:(.text+0x467): undefined reference to `get_cuda_stream'\n",
            "obj/blas_kernels.o: In function `scale_bias_gpu':\n",
            "tmpxft_00000207_00000000-6_blas_kernels.compute_61.cudafe1.cpp:(.text+0x68f): undefined reference to `get_number_of_blocks'\n",
            "tmpxft_00000207_00000000-6_blas_kernels.compute_61.cudafe1.cpp:(.text+0x697): undefined reference to `get_cuda_stream'\n",
            "obj/blas_kernels.o: In function `backward_scale_gpu':\n",
            "tmpxft_00000207_00000000-6_blas_kernels.compute_61.cudafe1.cpp:(.text+0x8a0): undefined reference to `get_cuda_stream'\n",
            "obj/blas_kernels.o: In function `add_bias_gpu':\n",
            "tmpxft_00000207_00000000-6_blas_kernels.compute_61.cudafe1.cpp:(.text+0xacf): undefined reference to `get_number_of_blocks'\n",
            "tmpxft_00000207_00000000-6_blas_kernels.compute_61.cudafe1.cpp:(.text+0xad7): undefined reference to `get_cuda_stream'\n",
            "obj/blas_kernels.o: In function `backward_bias_gpu':\n",
            "tmpxft_00000207_00000000-6_blas_kernels.compute_61.cudafe1.cpp:(.text+0xccb): undefined reference to `get_cuda_stream'\n",
            "obj/blas_kernels.o: In function `adam_gpu':\n",
            "tmpxft_00000207_00000000-6_blas_kernels.compute_61.cudafe1.cpp:(.text+0xf34): undefined reference to `get_cuda_stream'\n",
            "tmpxft_00000207_00000000-6_blas_kernels.compute_61.cudafe1.cpp:(.text+0xf56): undefined reference to `cuda_gridsize'\n",
            "obj/blas_kernels.o: In function `normalize_gpu':\n",
            "tmpxft_00000207_00000000-6_blas_kernels.compute_61.cudafe1.cpp:(.text+0x1174): undefined reference to `get_number_of_blocks'\n",
            "tmpxft_00000207_00000000-6_blas_kernels.compute_61.cudafe1.cpp:(.text+0x117c): undefined reference to `get_cuda_stream'\n",
            "obj/blas_kernels.o: In function `normalize_delta_gpu':\n",
            "tmpxft_00000207_00000000-6_blas_kernels.compute_61.cudafe1.cpp:(.text+0x1418): undefined reference to `get_cuda_stream'\n",
            "tmpxft_00000207_00000000-6_blas_kernels.compute_61.cudafe1.cpp:(.text+0x1440): undefined reference to `cuda_gridsize'\n",
            "obj/blas_kernels.o: In function `fast_mean_delta_gpu':\n",
            "tmpxft_00000207_00000000-6_blas_kernels.compute_61.cudafe1.cpp:(.text+0x1910): undefined reference to `get_cuda_stream'\n",
            "obj/blas_kernels.o: In function `fast_variance_delta_gpu':\n",
            "tmpxft_00000207_00000000-6_blas_kernels.compute_61.cudafe1.cpp:(.text+0x1b6e): undefined reference to `get_cuda_stream'\n",
            "obj/blas_kernels.o: In function `mean_delta_gpu':\n",
            "tmpxft_00000207_00000000-6_blas_kernels.compute_61.cudafe1.cpp:(.text+0x1d80): undefined reference to `get_cuda_stream'\n",
            "tmpxft_00000207_00000000-6_blas_kernels.compute_61.cudafe1.cpp:(.text+0x1da4): undefined reference to `cuda_gridsize'\n",
            "obj/blas_kernels.o: In function `mean_gpu':\n",
            "tmpxft_00000207_00000000-6_blas_kernels.compute_61.cudafe1.cpp:(.text+0x1f7d): undefined reference to `get_cuda_stream'\n",
            "tmpxft_00000207_00000000-6_blas_kernels.compute_61.cudafe1.cpp:(.text+0x1f9f): undefined reference to `cuda_gridsize'\n",
            "obj/blas_kernels.o: In function `variance_gpu':\n",
            "tmpxft_00000207_00000000-6_blas_kernels.compute_61.cudafe1.cpp:(.text+0x2190): undefined reference to `get_cuda_stream'\n",
            "tmpxft_00000207_00000000-6_blas_kernels.compute_61.cudafe1.cpp:(.text+0x21b4): undefined reference to `cuda_gridsize'\n",
            "obj/blas_kernels.o: In function `reorg_ongpu':\n",
            "tmpxft_00000207_00000000-6_blas_kernels.compute_61.cudafe1.cpp:(.text+0x2403): undefined reference to `get_cuda_stream'\n",
            "tmpxft_00000207_00000000-6_blas_kernels.compute_61.cudafe1.cpp:(.text+0x2427): undefined reference to `cuda_gridsize'\n",
            "obj/blas_kernels.o: In function `constrain_weight_updates_ongpu':\n",
            "tmpxft_00000207_00000000-6_blas_kernels.compute_61.cudafe1.cpp:(.text+0x25f9): undefined reference to `get_cuda_stream'\n",
            "tmpxft_00000207_00000000-6_blas_kernels.compute_61.cudafe1.cpp:(.text+0x261b): undefined reference to `cuda_gridsize'\n",
            "obj/blas_kernels.o: In function `axpy_ongpu_offset':\n",
            "tmpxft_00000207_00000000-6_blas_kernels.compute_61.cudafe1.cpp:(.text+0x283f): undefined reference to `get_cuda_stream'\n",
            "tmpxft_00000207_00000000-6_blas_kernels.compute_61.cudafe1.cpp:(.text+0x2863): undefined reference to `cuda_gridsize'\n",
            "obj/blas_kernels.o: In function `pow_ongpu':\n",
            "tmpxft_00000207_00000000-6_blas_kernels.compute_61.cudafe1.cpp:(.text+0x2a93): undefined reference to `get_cuda_stream'\n",
            "tmpxft_00000207_00000000-6_blas_kernels.compute_61.cudafe1.cpp:(.text+0x2ab5): undefined reference to `cuda_gridsize'\n",
            "obj/blas_kernels.o: In function `const_ongpu':\n",
            "tmpxft_00000207_00000000-6_blas_kernels.compute_61.cudafe1.cpp:(.text+0x2c69): undefined reference to `get_cuda_stream'\n",
            "tmpxft_00000207_00000000-6_blas_kernels.compute_61.cudafe1.cpp:(.text+0x2c8b): undefined reference to `cuda_gridsize'\n",
            "obj/blas_kernels.o: In function `constrain_ongpu':\n",
            "tmpxft_00000207_00000000-6_blas_kernels.compute_61.cudafe1.cpp:(.text+0x2e39): undefined reference to `get_cuda_stream'\n",
            "tmpxft_00000207_00000000-6_blas_kernels.compute_61.cudafe1.cpp:(.text+0x2e5b): undefined reference to `cuda_gridsize'\n",
            "obj/blas_kernels.o: In function `constrain_min_max_ongpu':\n",
            "tmpxft_00000207_00000000-6_blas_kernels.compute_61.cudafe1.cpp:(.text+0x301f): undefined reference to `get_cuda_stream'\n",
            "tmpxft_00000207_00000000-6_blas_kernels.compute_61.cudafe1.cpp:(.text+0x3041): undefined reference to `cuda_gridsize'\n",
            "obj/blas_kernels.o: In function `supp_ongpu':\n",
            "tmpxft_00000207_00000000-6_blas_kernels.compute_61.cudafe1.cpp:(.text+0x31f9): undefined reference to `get_cuda_stream'\n",
            "tmpxft_00000207_00000000-6_blas_kernels.compute_61.cudafe1.cpp:(.text+0x321b): undefined reference to `cuda_gridsize'\n",
            "obj/blas_kernels.o: In function `scal_ongpu':\n",
            "tmpxft_00000207_00000000-6_blas_kernels.compute_61.cudafe1.cpp:(.text+0x33c9): undefined reference to `get_cuda_stream'\n",
            "tmpxft_00000207_00000000-6_blas_kernels.compute_61.cudafe1.cpp:(.text+0x33eb): undefined reference to `cuda_gridsize'\n",
            "obj/blas_kernels.o: In function `scal_add_ongpu':\n",
            "tmpxft_00000207_00000000-6_blas_kernels.compute_61.cudafe1.cpp:(.text+0x35af): undefined reference to `get_cuda_stream'\n",
            "tmpxft_00000207_00000000-6_blas_kernels.compute_61.cudafe1.cpp:(.text+0x35d1): undefined reference to `cuda_gridsize'\n",
            "obj/blas_kernels.o: In function `fill_ongpu':\n",
            "tmpxft_00000207_00000000-6_blas_kernels.compute_61.cudafe1.cpp:(.text+0x3789): undefined reference to `get_cuda_stream'\n",
            "tmpxft_00000207_00000000-6_blas_kernels.compute_61.cudafe1.cpp:(.text+0x37af): undefined reference to `get_number_of_blocks'\n",
            "obj/blas_kernels.o: In function `mask_gpu_new_api':\n",
            "tmpxft_00000207_00000000-6_blas_kernels.compute_61.cudafe1.cpp:(.text+0x399f): undefined reference to `get_cuda_stream'\n",
            "tmpxft_00000207_00000000-6_blas_kernels.compute_61.cudafe1.cpp:(.text+0x39c1): undefined reference to `cuda_gridsize'\n",
            "obj/blas_kernels.o: In function `mask_ongpu':\n",
            "tmpxft_00000207_00000000-6_blas_kernels.compute_61.cudafe1.cpp:(.text+0x3b79): undefined reference to `get_cuda_stream'\n",
            "tmpxft_00000207_00000000-6_blas_kernels.compute_61.cudafe1.cpp:(.text+0x3b9b): undefined reference to `cuda_gridsize'\n",
            "obj/blas_kernels.o: In function `copy_ongpu_offset':\n",
            "tmpxft_00000207_00000000-6_blas_kernels.compute_61.cudafe1.cpp:(.text+0x3da6): undefined reference to `get_cuda_stream'\n",
            "tmpxft_00000207_00000000-6_blas_kernels.compute_61.cudafe1.cpp:(.text+0x3dc9): undefined reference to `cuda_gridsize'\n",
            "obj/blas_kernels.o: In function `simple_copy_ongpu':\n",
            "tmpxft_00000207_00000000-6_blas_kernels.compute_61.cudafe1.cpp:(.text+0x3f82): undefined reference to `get_cuda_stream'\n",
            "obj/blas_kernels.o: In function `mul_ongpu':\n",
            "tmpxft_00000207_00000000-6_blas_kernels.compute_61.cudafe1.cpp:(.text+0x417d): undefined reference to `get_cuda_stream'\n",
            "tmpxft_00000207_00000000-6_blas_kernels.compute_61.cudafe1.cpp:(.text+0x419f): undefined reference to `cuda_gridsize'\n",
            "obj/blas_kernels.o: In function `fast_mean_gpu':\n",
            "tmpxft_00000207_00000000-6_blas_kernels.compute_61.cudafe1.cpp:(.text+0x44fb): undefined reference to `get_cuda_stream'\n",
            "obj/blas_kernels.o: In function `fast_variance_gpu':\n",
            "tmpxft_00000207_00000000-6_blas_kernels.compute_61.cudafe1.cpp:(.text+0x4700): undefined reference to `get_cuda_stream'\n",
            "obj/blas_kernels.o: In function `fast_v_cbn_gpu':\n",
            "tmpxft_00000207_00000000-6_blas_kernels.compute_61.cudafe1.cpp:(.text+0x4a86): undefined reference to `get_cuda_stream'\n",
            "obj/blas_kernels.o: In function `inverse_variance_ongpu':\n",
            "tmpxft_00000207_00000000-6_blas_kernels.compute_61.cudafe1.cpp:(.text+0x4c88): undefined reference to `get_cuda_stream'\n",
            "obj/blas_kernels.o: In function `normalize_scale_bias_gpu':\n",
            "tmpxft_00000207_00000000-6_blas_kernels.compute_61.cudafe1.cpp:(.text+0x4f5b): undefined reference to `get_number_of_blocks'\n",
            "tmpxft_00000207_00000000-6_blas_kernels.compute_61.cudafe1.cpp:(.text+0x4f63): undefined reference to `get_cuda_stream'\n",
            "obj/blas_kernels.o: In function `flatten_ongpu':\n",
            "tmpxft_00000207_00000000-6_blas_kernels.compute_61.cudafe1.cpp:(.text+0x51aa): undefined reference to `get_cuda_stream'\n",
            "tmpxft_00000207_00000000-6_blas_kernels.compute_61.cudafe1.cpp:(.text+0x51cd): undefined reference to `cuda_gridsize'\n",
            "obj/blas_kernels.o: In function `gradient_centralization_gpu':\n",
            "tmpxft_00000207_00000000-6_blas_kernels.compute_61.cudafe1.cpp:(.text+0x537e): undefined reference to `get_cuda_stream'\n",
            "tmpxft_00000207_00000000-6_blas_kernels.compute_61.cudafe1.cpp:(.text+0x53a7): undefined reference to `get_number_of_blocks'\n",
            "obj/blas_kernels.o: In function `shortcut_multilayer_gpu':\n",
            "tmpxft_00000207_00000000-6_blas_kernels.compute_61.cudafe1.cpp:(.text+0x5845): undefined reference to `get_cuda_stream'\n",
            "tmpxft_00000207_00000000-6_blas_kernels.compute_61.cudafe1.cpp:(.text+0x586b): undefined reference to `cuda_gridsize'\n",
            "tmpxft_00000207_00000000-6_blas_kernels.compute_61.cudafe1.cpp:(.text+0x58d0): undefined reference to `get_cuda_stream'\n",
            "tmpxft_00000207_00000000-6_blas_kernels.compute_61.cudafe1.cpp:(.text+0x58f6): undefined reference to `cuda_gridsize'\n",
            "obj/blas_kernels.o: In function `backward_shortcut_multilayer_gpu':\n",
            "tmpxft_00000207_00000000-6_blas_kernels.compute_61.cudafe1.cpp:(.text+0x5c89): undefined reference to `get_cuda_stream'\n",
            "tmpxft_00000207_00000000-6_blas_kernels.compute_61.cudafe1.cpp:(.text+0x5cac): undefined reference to `cuda_gridsize'\n",
            "obj/blas_kernels.o: In function `shortcut_gpu':\n",
            "tmpxft_00000207_00000000-6_blas_kernels.compute_61.cudafe1.cpp:(.text+0x6017): undefined reference to `get_cuda_stream'\n",
            "tmpxft_00000207_00000000-6_blas_kernels.compute_61.cudafe1.cpp:(.text+0x603d): undefined reference to `cuda_gridsize'\n",
            "obj/blas_kernels.o: In function `input_shortcut_gpu':\n",
            "tmpxft_00000207_00000000-6_blas_kernels.compute_61.cudafe1.cpp:(.text+0x6357): undefined reference to `get_cuda_stream'\n",
            "tmpxft_00000207_00000000-6_blas_kernels.compute_61.cudafe1.cpp:(.text+0x637d): undefined reference to `cuda_gridsize'\n",
            "tmpxft_00000207_00000000-6_blas_kernels.compute_61.cudafe1.cpp:(.text+0x645a): undefined reference to `get_cuda_stream'\n",
            "tmpxft_00000207_00000000-6_blas_kernels.compute_61.cudafe1.cpp:(.text+0x647c): undefined reference to `cuda_gridsize'\n",
            "obj/blas_kernels.o: In function `smooth_l1_gpu':\n",
            "tmpxft_00000207_00000000-6_blas_kernels.compute_61.cudafe1.cpp:(.text+0x68cd): undefined reference to `get_cuda_stream'\n",
            "tmpxft_00000207_00000000-6_blas_kernels.compute_61.cudafe1.cpp:(.text+0x68ef): undefined reference to `cuda_gridsize'\n",
            "obj/blas_kernels.o: In function `softmax_x_ent_gpu':\n",
            "tmpxft_00000207_00000000-6_blas_kernels.compute_61.cudafe1.cpp:(.text+0x6abd): undefined reference to `get_cuda_stream'\n",
            "tmpxft_00000207_00000000-6_blas_kernels.compute_61.cudafe1.cpp:(.text+0x6adf): undefined reference to `cuda_gridsize'\n",
            "obj/blas_kernels.o: In function `l2_gpu':\n",
            "tmpxft_00000207_00000000-6_blas_kernels.compute_61.cudafe1.cpp:(.text+0x6cad): undefined reference to `get_cuda_stream'\n",
            "tmpxft_00000207_00000000-6_blas_kernels.compute_61.cudafe1.cpp:(.text+0x6ccf): undefined reference to `cuda_gridsize'\n",
            "obj/blas_kernels.o: In function `weighted_sum_gpu':\n",
            "tmpxft_00000207_00000000-6_blas_kernels.compute_61.cudafe1.cpp:(.text+0x6e9d): undefined reference to `get_cuda_stream'\n",
            "tmpxft_00000207_00000000-6_blas_kernels.compute_61.cudafe1.cpp:(.text+0x6ebf): undefined reference to `cuda_gridsize'\n",
            "obj/blas_kernels.o: In function `weighted_delta_gpu':\n",
            "tmpxft_00000207_00000000-6_blas_kernels.compute_61.cudafe1.cpp:(.text+0x7124): undefined reference to `get_cuda_stream'\n",
            "tmpxft_00000207_00000000-6_blas_kernels.compute_61.cudafe1.cpp:(.text+0x7148): undefined reference to `cuda_gridsize'\n",
            "obj/blas_kernels.o: In function `mult_add_into_gpu':\n",
            "tmpxft_00000207_00000000-6_blas_kernels.compute_61.cudafe1.cpp:(.text+0x7318): undefined reference to `get_cuda_stream'\n",
            "tmpxft_00000207_00000000-6_blas_kernels.compute_61.cudafe1.cpp:(.text+0x733a): undefined reference to `cuda_gridsize'\n",
            "obj/blas_kernels.o: In function `softmax_gpu':\n",
            "tmpxft_00000207_00000000-6_blas_kernels.compute_61.cudafe1.cpp:(.text+0x7532): undefined reference to `get_cuda_stream'\n",
            "tmpxft_00000207_00000000-6_blas_kernels.compute_61.cudafe1.cpp:(.text+0x7554): undefined reference to `cuda_gridsize'\n",
            "obj/blas_kernels.o: In function `softmax_gpu_new_api':\n",
            "tmpxft_00000207_00000000-6_blas_kernels.compute_61.cudafe1.cpp:(.text+0x7799): undefined reference to `get_cuda_stream'\n",
            "tmpxft_00000207_00000000-6_blas_kernels.compute_61.cudafe1.cpp:(.text+0x77c2): undefined reference to `cuda_gridsize'\n",
            "obj/blas_kernels.o: In function `upsample_gpu':\n",
            "tmpxft_00000207_00000000-6_blas_kernels.compute_61.cudafe1.cpp:(.text+0x7a65): undefined reference to `get_cuda_stream'\n",
            "tmpxft_00000207_00000000-6_blas_kernels.compute_61.cudafe1.cpp:(.text+0x7a8b): undefined reference to `cuda_gridsize'\n",
            "obj/blas_kernels.o: In function `softmax_tree_gpu':\n",
            "tmpxft_00000207_00000000-6_blas_kernels.compute_61.cudafe1.cpp:(.text+0x7cff): undefined reference to `cuda_make_int_array_new_api'\n",
            "tmpxft_00000207_00000000-6_blas_kernels.compute_61.cudafe1.cpp:(.text+0x7d19): undefined reference to `cuda_make_int_array_new_api'\n",
            "tmpxft_00000207_00000000-6_blas_kernels.compute_61.cudafe1.cpp:(.text+0x7d24): undefined reference to `get_cuda_stream'\n",
            "tmpxft_00000207_00000000-6_blas_kernels.compute_61.cudafe1.cpp:(.text+0x7d47): undefined reference to `cuda_gridsize'\n",
            "tmpxft_00000207_00000000-6_blas_kernels.compute_61.cudafe1.cpp:(.text+0x7dad): undefined reference to `check_error_extended'\n",
            "tmpxft_00000207_00000000-6_blas_kernels.compute_61.cudafe1.cpp:(.text+0x7db5): undefined reference to `cuda_free'\n",
            "obj/blas_kernels.o: In function `fix_nan_and_inf':\n",
            "tmpxft_00000207_00000000-6_blas_kernels.compute_61.cudafe1.cpp:(.text+0x7ee6): undefined reference to `get_number_of_blocks'\n",
            "tmpxft_00000207_00000000-6_blas_kernels.compute_61.cudafe1.cpp:(.text+0x7eed): undefined reference to `get_cuda_stream'\n",
            "obj/blas_kernels.o: In function `reset_nan_and_inf':\n",
            "tmpxft_00000207_00000000-6_blas_kernels.compute_61.cudafe1.cpp:(.text+0x8076): undefined reference to `get_number_of_blocks'\n",
            "tmpxft_00000207_00000000-6_blas_kernels.compute_61.cudafe1.cpp:(.text+0x807d): undefined reference to `get_cuda_stream'\n",
            "obj/blas_kernels.o: In function `is_nan_or_inf':\n",
            "tmpxft_00000207_00000000-6_blas_kernels.compute_61.cudafe1.cpp:(.text+0x8248): undefined reference to `check_error_extended'\n",
            "tmpxft_00000207_00000000-6_blas_kernels.compute_61.cudafe1.cpp:(.text+0x825f): undefined reference to `get_number_of_blocks'\n",
            "tmpxft_00000207_00000000-6_blas_kernels.compute_61.cudafe1.cpp:(.text+0x8266): undefined reference to `get_cuda_stream'\n",
            "tmpxft_00000207_00000000-6_blas_kernels.compute_61.cudafe1.cpp:(.text+0x82dc): undefined reference to `check_error_extended'\n",
            "tmpxft_00000207_00000000-6_blas_kernels.compute_61.cudafe1.cpp:(.text+0x8302): undefined reference to `check_error_extended'\n",
            "obj/blas_kernels.o: In function `add_3_arrays_activate':\n",
            "tmpxft_00000207_00000000-6_blas_kernels.compute_61.cudafe1.cpp:(.text+0x84ca): undefined reference to `get_number_of_blocks'\n",
            "tmpxft_00000207_00000000-6_blas_kernels.compute_61.cudafe1.cpp:(.text+0x8507): undefined reference to `get_cuda_stream'\n",
            "obj/blas_kernels.o: In function `sum_of_mults':\n",
            "tmpxft_00000207_00000000-6_blas_kernels.compute_61.cudafe1.cpp:(.text+0x870b): undefined reference to `get_number_of_blocks'\n",
            "tmpxft_00000207_00000000-6_blas_kernels.compute_61.cudafe1.cpp:(.text+0x8712): undefined reference to `get_cuda_stream'\n",
            "obj/blas_kernels.o: In function `activate_and_mult':\n",
            "tmpxft_00000207_00000000-6_blas_kernels.compute_61.cudafe1.cpp:(.text+0x88e4): undefined reference to `get_number_of_blocks'\n",
            "tmpxft_00000207_00000000-6_blas_kernels.compute_61.cudafe1.cpp:(.text+0x88fb): undefined reference to `get_cuda_stream'\n",
            "obj/blas_kernels.o: In function `scale_channels_gpu':\n",
            "tmpxft_00000207_00000000-6_blas_kernels.compute_61.cudafe1.cpp:(.text+0x8b2e): undefined reference to `get_number_of_blocks'\n",
            "tmpxft_00000207_00000000-6_blas_kernels.compute_61.cudafe1.cpp:(.text+0x8b35): undefined reference to `get_cuda_stream'\n",
            "obj/blas_kernels.o: In function `backward_scale_channels_gpu':\n",
            "tmpxft_00000207_00000000-6_blas_kernels.compute_61.cudafe1.cpp:(.text+0x8dd5): undefined reference to `get_number_of_blocks'\n",
            "tmpxft_00000207_00000000-6_blas_kernels.compute_61.cudafe1.cpp:(.text+0x8ddc): undefined reference to `get_cuda_stream'\n",
            "obj/blas_kernels.o: In function `sam_gpu':\n",
            "tmpxft_00000207_00000000-6_blas_kernels.compute_61.cudafe1.cpp:(.text+0x8ff4): undefined reference to `get_number_of_blocks'\n",
            "tmpxft_00000207_00000000-6_blas_kernels.compute_61.cudafe1.cpp:(.text+0x8ffc): undefined reference to `get_cuda_stream'\n",
            "obj/blas_kernels.o: In function `backward_sam_gpu':\n",
            "tmpxft_00000207_00000000-6_blas_kernels.compute_61.cudafe1.cpp:(.text+0x923e): undefined reference to `get_number_of_blocks'\n",
            "tmpxft_00000207_00000000-6_blas_kernels.compute_61.cudafe1.cpp:(.text+0x9245): undefined reference to `get_cuda_stream'\n",
            "obj/blas_kernels.o: In function `smooth_rotate_weights_gpu':\n",
            "tmpxft_00000207_00000000-6_blas_kernels.compute_61.cudafe1.cpp:(.text+0x949b): undefined reference to `get_number_of_blocks'\n",
            "tmpxft_00000207_00000000-6_blas_kernels.compute_61.cudafe1.cpp:(.text+0x94a3): undefined reference to `get_cuda_stream'\n",
            "obj/blas_kernels.o: In function `stretch_weights_gpu':\n",
            "tmpxft_00000207_00000000-6_blas_kernels.compute_61.cudafe1.cpp:(.text+0x96eb): undefined reference to `get_number_of_blocks'\n",
            "tmpxft_00000207_00000000-6_blas_kernels.compute_61.cudafe1.cpp:(.text+0x96f3): undefined reference to `get_cuda_stream'\n",
            "obj/blas_kernels.o: In function `sway_and_flip_weights_gpu':\n",
            "tmpxft_00000207_00000000-6_blas_kernels.compute_61.cudafe1.cpp:(.text+0x993b): undefined reference to `get_number_of_blocks'\n",
            "tmpxft_00000207_00000000-6_blas_kernels.compute_61.cudafe1.cpp:(.text+0x9943): undefined reference to `get_cuda_stream'\n",
            "obj/blas_kernels.o: In function `rotate_weights_gpu':\n",
            "tmpxft_00000207_00000000-6_blas_kernels.compute_61.cudafe1.cpp:(.text+0x9b85): undefined reference to `get_number_of_blocks'\n",
            "tmpxft_00000207_00000000-6_blas_kernels.compute_61.cudafe1.cpp:(.text+0x9b8d): undefined reference to `get_cuda_stream'\n",
            "obj/blas_kernels.o: In function `stretch_sway_flip_weights_gpu':\n",
            "tmpxft_00000207_00000000-6_blas_kernels.compute_61.cudafe1.cpp:(.text+0x9dcb): undefined reference to `get_number_of_blocks'\n",
            "tmpxft_00000207_00000000-6_blas_kernels.compute_61.cudafe1.cpp:(.text+0x9dd3): undefined reference to `get_cuda_stream'\n",
            "obj/blas_kernels.o: In function `reduce_and_expand_array_gpu':\n",
            "tmpxft_00000207_00000000-6_blas_kernels.compute_61.cudafe1.cpp:(.text+0x9fb3): undefined reference to `get_number_of_blocks'\n",
            "tmpxft_00000207_00000000-6_blas_kernels.compute_61.cudafe1.cpp:(.text+0x9fbb): undefined reference to `get_cuda_stream'\n",
            "obj/blas_kernels.o: In function `expand_array_gpu':\n",
            "tmpxft_00000207_00000000-6_blas_kernels.compute_61.cudafe1.cpp:(.text+0xa193): undefined reference to `get_number_of_blocks'\n",
            "tmpxft_00000207_00000000-6_blas_kernels.compute_61.cudafe1.cpp:(.text+0xa19b): undefined reference to `get_cuda_stream'\n",
            "obj/blas_kernels.o: In function `mult_inverse_array_gpu':\n",
            "tmpxft_00000207_00000000-6_blas_kernels.compute_61.cudafe1.cpp:(.text+0xa3c1): undefined reference to `get_number_of_blocks'\n",
            "tmpxft_00000207_00000000-6_blas_kernels.compute_61.cudafe1.cpp:(.text+0xa3c8): undefined reference to `get_cuda_stream'\n",
            "obj/blas_kernels.o: In function `P_constrastive_f_det_gpu':\n",
            "tmpxft_00000207_00000000-6_blas_kernels.compute_61.cudafe1.cpp:(.text+0xa5d5): undefined reference to `get_number_of_blocks'\n",
            "tmpxft_00000207_00000000-6_blas_kernels.compute_61.cudafe1.cpp:(.text+0xa5dd): undefined reference to `get_cuda_stream'\n",
            "obj/blas_kernels.o: In function `coord_conv_gpu':\n",
            "tmpxft_00000207_00000000-6_blas_kernels.compute_61.cudafe1.cpp:(.text+0xa7fb): undefined reference to `get_number_of_blocks'\n",
            "tmpxft_00000207_00000000-6_blas_kernels.compute_61.cudafe1.cpp:(.text+0xa802): undefined reference to `get_cuda_stream'\n",
            "obj/blas_kernels.o: In function `forward_implicit_gpu':\n",
            "tmpxft_00000207_00000000-6_blas_kernels.compute_61.cudafe1.cpp:(.text+0xa9ff): undefined reference to `get_cuda_stream'\n",
            "tmpxft_00000207_00000000-6_blas_kernels.compute_61.cudafe1.cpp:(.text+0xaa21): undefined reference to `cuda_gridsize'\n",
            "obj/blas_kernels.o: In function `backward_implicit_gpu':\n",
            "tmpxft_00000207_00000000-6_blas_kernels.compute_61.cudafe1.cpp:(.text+0xabf7): undefined reference to `get_cuda_stream'\n",
            "tmpxft_00000207_00000000-6_blas_kernels.compute_61.cudafe1.cpp:(.text+0xac19): undefined reference to `cuda_gridsize'\n",
            "obj/blas_kernels.o: In function `memcpy_ongpu':\n",
            "tmpxft_00000207_00000000-6_blas_kernels.compute_61.cudafe1.cpp:(.text+0x70): undefined reference to `check_error_extended'\n",
            "obj/blas_kernels.o: In function `compare_2_arrays_gpu':\n",
            "tmpxft_00000207_00000000-6_blas_kernels.compute_61.cudafe1.cpp:(.text+0x300): undefined reference to `check_error_extended'\n",
            "obj/blas_kernels.o: In function `mean_array_gpu':\n",
            "tmpxft_00000207_00000000-6_blas_kernels.compute_61.cudafe1.cpp:(.text+0x4dd): undefined reference to `check_error_extended'\n",
            "obj/blas_kernels.o: In function `scale_bias_gpu':\n",
            "tmpxft_00000207_00000000-6_blas_kernels.compute_61.cudafe1.cpp:(.text+0x717): undefined reference to `check_error_extended'\n",
            "obj/blas_kernels.o: In function `backward_scale_gpu':\n",
            "tmpxft_00000207_00000000-6_blas_kernels.compute_61.cudafe1.cpp:(.text+0x91d): undefined reference to `check_error_extended'\n",
            "obj/blas_kernels.o:tmpxft_00000207_00000000-6_blas_kernels.compute_61.cudafe1.cpp:(.text+0xb57): more undefined references to `check_error_extended' follow\n",
            "obj/blas_kernels.o: In function `softmax_tree_gpu':\n",
            "tmpxft_00000207_00000000-6_blas_kernels.compute_61.cudafe1.cpp:(.text+0x7dcb): undefined reference to `cuda_free'\n",
            "obj/blas_kernels.o: In function `fix_nan_and_inf':\n",
            "tmpxft_00000207_00000000-6_blas_kernels.compute_61.cudafe1.cpp:(.text+0x7f59): undefined reference to `check_error_extended'\n",
            "obj/blas_kernels.o: In function `reset_nan_and_inf':\n",
            "tmpxft_00000207_00000000-6_blas_kernels.compute_61.cudafe1.cpp:(.text+0x80e9): undefined reference to `check_error_extended'\n",
            "obj/blas_kernels.o: In function `scale_channels_gpu':\n",
            "tmpxft_00000207_00000000-6_blas_kernels.compute_61.cudafe1.cpp:(.text+0x8bbd): undefined reference to `check_error_extended'\n",
            "obj/blas_kernels.o: In function `backward_scale_channels_gpu':\n",
            "tmpxft_00000207_00000000-6_blas_kernels.compute_61.cudafe1.cpp:(.text+0x8e6d): undefined reference to `check_error_extended'\n",
            "obj/blas_kernels.o: In function `sam_gpu':\n",
            "tmpxft_00000207_00000000-6_blas_kernels.compute_61.cudafe1.cpp:(.text+0x9077): undefined reference to `check_error_extended'\n",
            "obj/blas_kernels.o:tmpxft_00000207_00000000-6_blas_kernels.compute_61.cudafe1.cpp:(.text+0x92cd): more undefined references to `check_error_extended' follow\n",
            "obj/crop_layer_kernels.o: In function `forward_crop_layer_gpu':\n",
            "tmpxft_00000236_00000000-6_crop_layer_kernels.compute_61.cudafe1.cpp:(.text+0x4d1): undefined reference to `cuda_random'\n",
            "tmpxft_00000236_00000000-6_crop_layer_kernels.compute_61.cudafe1.cpp:(.text+0x512): undefined reference to `get_cuda_stream'\n",
            "tmpxft_00000236_00000000-6_crop_layer_kernels.compute_61.cudafe1.cpp:(.text+0x53a): undefined reference to `cuda_gridsize'\n",
            "tmpxft_00000236_00000000-6_crop_layer_kernels.compute_61.cudafe1.cpp:(.text+0x57d): undefined reference to `check_error_extended'\n",
            "tmpxft_00000236_00000000-6_crop_layer_kernels.compute_61.cudafe1.cpp:(.text+0x590): undefined reference to `get_cuda_stream'\n",
            "tmpxft_00000236_00000000-6_crop_layer_kernels.compute_61.cudafe1.cpp:(.text+0x5b2): undefined reference to `cuda_gridsize'\n",
            "tmpxft_00000236_00000000-6_crop_layer_kernels.compute_61.cudafe1.cpp:(.text+0x64f): undefined reference to `check_error_extended'\n",
            "obj/dropout_layer_kernels.o: In function `forward_dropout_layer_gpu':\n",
            "tmpxft_00000265_00000000-6_dropout_layer_kernels.compute_61.cudafe1.cpp:(.text+0x84a): undefined reference to `cuda_random'\n",
            "tmpxft_00000265_00000000-6_dropout_layer_kernels.compute_61.cudafe1.cpp:(.text+0x86d): undefined reference to `get_cuda_stream'\n",
            "tmpxft_00000265_00000000-6_dropout_layer_kernels.compute_61.cudafe1.cpp:(.text+0x917): undefined reference to `check_error_extended'\n",
            "tmpxft_00000265_00000000-6_dropout_layer_kernels.compute_61.cudafe1.cpp:(.text+0x923): undefined reference to `get_number_of_blocks'\n",
            "tmpxft_00000265_00000000-6_dropout_layer_kernels.compute_61.cudafe1.cpp:(.text+0x92b): undefined reference to `get_cuda_stream'\n",
            "tmpxft_00000265_00000000-6_dropout_layer_kernels.compute_61.cudafe1.cpp:(.text+0x997): undefined reference to `check_error_extended'\n",
            "tmpxft_00000265_00000000-6_dropout_layer_kernels.compute_61.cudafe1.cpp:(.text+0x9a7): undefined reference to `get_number_of_blocks'\n",
            "tmpxft_00000265_00000000-6_dropout_layer_kernels.compute_61.cudafe1.cpp:(.text+0x9ae): undefined reference to `get_cuda_stream'\n",
            "tmpxft_00000265_00000000-6_dropout_layer_kernels.compute_61.cudafe1.cpp:(.text+0xa5e): undefined reference to `cuda_random'\n",
            "tmpxft_00000265_00000000-6_dropout_layer_kernels.compute_61.cudafe1.cpp:(.text+0xa63): undefined reference to `get_cuda_stream'\n",
            "tmpxft_00000265_00000000-6_dropout_layer_kernels.compute_61.cudafe1.cpp:(.text+0xa85): undefined reference to `cuda_gridsize'\n",
            "obj/dropout_layer_kernels.o: In function `backward_dropout_layer_gpu':\n",
            "tmpxft_00000265_00000000-6_dropout_layer_kernels.compute_61.cudafe1.cpp:(.text+0xb83): undefined reference to `get_cuda_stream'\n",
            "tmpxft_00000265_00000000-6_dropout_layer_kernels.compute_61.cudafe1.cpp:(.text+0xba5): undefined reference to `cuda_gridsize'\n",
            "tmpxft_00000265_00000000-6_dropout_layer_kernels.compute_61.cudafe1.cpp:(.text+0xc3a): undefined reference to `get_number_of_blocks'\n",
            "tmpxft_00000265_00000000-6_dropout_layer_kernels.compute_61.cudafe1.cpp:(.text+0xc42): undefined reference to `get_cuda_stream'\n",
            "tmpxft_00000265_00000000-6_dropout_layer_kernels.compute_61.cudafe1.cpp:(.text+0xca0): undefined reference to `check_error_extended'\n",
            "tmpxft_00000265_00000000-6_dropout_layer_kernels.compute_61.cudafe1.cpp:(.text+0xca5): undefined reference to `get_cuda_stream'\n",
            "obj/dropout_layer_kernels.o: In function `forward_dropout_layer_gpu':\n",
            "tmpxft_00000265_00000000-6_dropout_layer_kernels.compute_61.cudafe1.cpp:(.text+0xa27): undefined reference to `check_error_extended'\n",
            "obj/dropout_layer_kernels.o: In function `backward_dropout_layer_gpu':\n",
            "tmpxft_00000265_00000000-6_dropout_layer_kernels.compute_61.cudafe1.cpp:(.text+0xbf2): undefined reference to `check_error_extended'\n",
            "obj/maxpool_layer_kernels.o: In function `forward_maxpool_layer_gpu':\n",
            "tmpxft_00000292_00000000-6_maxpool_layer_kernels.compute_61.cudafe1.cpp:(.text+0x6fc): undefined reference to `get_cuda_stream'\n",
            "tmpxft_00000292_00000000-6_maxpool_layer_kernels.compute_61.cudafe1.cpp:(.text+0x720): undefined reference to `cuda_gridsize'\n",
            "tmpxft_00000292_00000000-6_maxpool_layer_kernels.compute_61.cudafe1.cpp:(.text+0x7ac): undefined reference to `get_cuda_stream'\n",
            "tmpxft_00000292_00000000-6_maxpool_layer_kernels.compute_61.cudafe1.cpp:(.text+0x7d2): undefined reference to `cuda_gridsize'\n",
            "tmpxft_00000292_00000000-6_maxpool_layer_kernels.compute_61.cudafe1.cpp:(.text+0x81e): undefined reference to `check_error_extended'\n",
            "tmpxft_00000292_00000000-6_maxpool_layer_kernels.compute_61.cudafe1.cpp:(.text+0x9a1): undefined reference to `get_cuda_stream'\n",
            "tmpxft_00000292_00000000-6_maxpool_layer_kernels.compute_61.cudafe1.cpp:(.text+0x9c5): undefined reference to `cuda_gridsize'\n",
            "tmpxft_00000292_00000000-6_maxpool_layer_kernels.compute_61.cudafe1.cpp:(.text+0xa0b): undefined reference to `check_error_extended'\n",
            "obj/maxpool_layer_kernels.o: In function `backward_maxpool_layer_gpu':\n",
            "tmpxft_00000292_00000000-6_maxpool_layer_kernels.compute_61.cudafe1.cpp:(.text+0xdcb): undefined reference to `get_cuda_stream'\n",
            "tmpxft_00000292_00000000-6_maxpool_layer_kernels.compute_61.cudafe1.cpp:(.text+0xdf1): undefined reference to `cuda_gridsize'\n",
            "tmpxft_00000292_00000000-6_maxpool_layer_kernels.compute_61.cudafe1.cpp:(.text+0xe66): undefined reference to `get_cuda_stream'\n",
            "tmpxft_00000292_00000000-6_maxpool_layer_kernels.compute_61.cudafe1.cpp:(.text+0xe8a): undefined reference to `cuda_gridsize'\n",
            "tmpxft_00000292_00000000-6_maxpool_layer_kernels.compute_61.cudafe1.cpp:(.text+0xecd): undefined reference to `check_error_extended'\n",
            "tmpxft_00000292_00000000-6_maxpool_layer_kernels.compute_61.cudafe1.cpp:(.text+0xfb9): undefined reference to `get_cuda_stream'\n",
            "tmpxft_00000292_00000000-6_maxpool_layer_kernels.compute_61.cudafe1.cpp:(.text+0xfdb): undefined reference to `cuda_gridsize'\n",
            "obj/maxpool_layer_kernels.o: In function `forward_local_avgpool_layer_gpu':\n",
            "tmpxft_00000292_00000000-6_maxpool_layer_kernels.compute_61.cudafe1.cpp:(.text+0x1296): undefined reference to `get_cuda_stream'\n",
            "tmpxft_00000292_00000000-6_maxpool_layer_kernels.compute_61.cudafe1.cpp:(.text+0x12b8): undefined reference to `cuda_gridsize'\n",
            "obj/maxpool_layer_kernels.o: In function `backward_local_avgpool_layer_gpu':\n",
            "tmpxft_00000292_00000000-6_maxpool_layer_kernels.compute_61.cudafe1.cpp:(.text+0x1546): undefined reference to `get_cuda_stream'\n",
            "tmpxft_00000292_00000000-6_maxpool_layer_kernels.compute_61.cudafe1.cpp:(.text+0x1568): undefined reference to `cuda_gridsize'\n",
            "obj/maxpool_layer_kernels.o: In function `forward_maxpool_layer_gpu':\n",
            "tmpxft_00000292_00000000-6_maxpool_layer_kernels.compute_61.cudafe1.cpp:(.text+0x779): undefined reference to `check_error_extended'\n",
            "obj/maxpool_layer_kernels.o: In function `backward_maxpool_layer_gpu':\n",
            "tmpxft_00000292_00000000-6_maxpool_layer_kernels.compute_61.cudafe1.cpp:(.text+0xe45): undefined reference to `check_error_extended'\n",
            "obj/maxpool_layer_kernels.o: In function `forward_local_avgpool_layer_gpu':\n",
            "tmpxft_00000292_00000000-6_maxpool_layer_kernels.compute_61.cudafe1.cpp:(.text+0x1349): undefined reference to `check_error_extended'\n",
            "obj/maxpool_layer_kernels.o: In function `backward_local_avgpool_layer_gpu':\n",
            "tmpxft_00000292_00000000-6_maxpool_layer_kernels.compute_61.cudafe1.cpp:(.text+0x15f2): undefined reference to `check_error_extended'\n",
            "obj/network_kernels.o: In function `forward_network_gpu':\n",
            "tmpxft_000002c1_00000000-6_network_kernels.compute_61.cudafe1.cpp:(.text+0x261): undefined reference to `get_cuda_stream'\n",
            "tmpxft_000002c1_00000000-6_network_kernels.compute_61.cudafe1.cpp:(.text+0x37c): undefined reference to `check_error_extended'\n",
            "obj/network_kernels.o: In function `backward_network_gpu':\n",
            "tmpxft_000002c1_00000000-6_network_kernels.compute_61.cudafe1.cpp:(.text+0x8f6): undefined reference to `check_error_extended'\n",
            "tmpxft_000002c1_00000000-6_network_kernels.compute_61.cudafe1.cpp:(.text+0xc5b): undefined reference to `cuda_pull_array'\n",
            "tmpxft_000002c1_00000000-6_network_kernels.compute_61.cudafe1.cpp:(.text+0xc6b): undefined reference to `cuda_pull_array'\n",
            "obj/network_kernels.o: In function `forward_backward_network_gpu':\n",
            "tmpxft_000002c1_00000000-6_network_kernels.compute_61.cudafe1.cpp:(.text+0x1150): undefined reference to `cuda_push_array'\n",
            "tmpxft_000002c1_00000000-6_network_kernels.compute_61.cudafe1.cpp:(.text+0x1163): undefined reference to `cuda_push_array'\n",
            "tmpxft_000002c1_00000000-6_network_kernels.compute_61.cudafe1.cpp:(.text+0x130c): undefined reference to `cuda_free'\n",
            "tmpxft_000002c1_00000000-6_network_kernels.compute_61.cudafe1.cpp:(.text+0x131e): undefined reference to `cuda_pull_array'\n",
            "tmpxft_000002c1_00000000-6_network_kernels.compute_61.cudafe1.cpp:(.text+0x1338): undefined reference to `cuda_make_array'\n",
            "tmpxft_000002c1_00000000-6_network_kernels.compute_61.cudafe1.cpp:(.text+0x1353): undefined reference to `cuda_make_array'\n",
            "tmpxft_000002c1_00000000-6_network_kernels.compute_61.cudafe1.cpp:(.text+0x1365): undefined reference to `cuda_make_array'\n",
            "obj/network_kernels.o: In function `pull_updates(layer)':\n",
            "tmpxft_000002c1_00000000-6_network_kernels.compute_61.cudafe1.cpp:(.text+0x18bc): undefined reference to `cuda_pull_array'\n",
            "tmpxft_000002c1_00000000-6_network_kernels.compute_61.cudafe1.cpp:(.text+0x18cf): undefined reference to `cuda_pull_array'\n",
            "tmpxft_000002c1_00000000-6_network_kernels.compute_61.cudafe1.cpp:(.text+0x1904): undefined reference to `cuda_pull_array'\n",
            "obj/network_kernels.o: In function `push_updates(layer)':\n",
            "tmpxft_000002c1_00000000-6_network_kernels.compute_61.cudafe1.cpp:(.text+0x198c): undefined reference to `cuda_push_array'\n",
            "tmpxft_000002c1_00000000-6_network_kernels.compute_61.cudafe1.cpp:(.text+0x199f): undefined reference to `cuda_push_array'\n",
            "tmpxft_000002c1_00000000-6_network_kernels.compute_61.cudafe1.cpp:(.text+0x19d4): undefined reference to `cuda_push_array'\n",
            "obj/network_kernels.o: In function `pull_weights(layer)':\n",
            "tmpxft_000002c1_00000000-6_network_kernels.compute_61.cudafe1.cpp:(.text+0x1d2c): undefined reference to `cuda_pull_array'\n",
            "tmpxft_000002c1_00000000-6_network_kernels.compute_61.cudafe1.cpp:(.text+0x1d3f): undefined reference to `cuda_pull_array'\n",
            "tmpxft_000002c1_00000000-6_network_kernels.compute_61.cudafe1.cpp:(.text+0x1d74): undefined reference to `cuda_pull_array'\n",
            "obj/network_kernels.o: In function `push_weights(layer)':\n",
            "tmpxft_000002c1_00000000-6_network_kernels.compute_61.cudafe1.cpp:(.text+0x1dfc): undefined reference to `cuda_push_array'\n",
            "tmpxft_000002c1_00000000-6_network_kernels.compute_61.cudafe1.cpp:(.text+0x1e0f): undefined reference to `cuda_push_array'\n",
            "tmpxft_000002c1_00000000-6_network_kernels.compute_61.cudafe1.cpp:(.text+0x1e44): undefined reference to `cuda_push_array'\n",
            "obj/network_kernels.o: In function `distribute_weights(layer, layer)':\n",
            "tmpxft_000002c1_00000000-6_network_kernels.compute_61.cudafe1.cpp:(.text+0x1ecc): undefined reference to `cuda_push_array'\n",
            "tmpxft_000002c1_00000000-6_network_kernels.compute_61.cudafe1.cpp:(.text+0x1edf): undefined reference to `cuda_push_array'\n",
            "obj/network_kernels.o:tmpxft_000002c1_00000000-6_network_kernels.compute_61.cudafe1.cpp:(.text+0x1f14): more undefined references to `cuda_push_array' follow\n",
            "obj/network_kernels.o: In function `get_network_output_layer_gpu(network, int)':\n",
            "tmpxft_000002c1_00000000-6_network_kernels.compute_61.cudafe1.cpp:(.text+0x287a): undefined reference to `cuda_pull_array'\n",
            "obj/network_kernels.o: In function `network_predict_gpu':\n",
            "tmpxft_000002c1_00000000-6_network_kernels.compute_61.cudafe1.cpp:(.text+0x2937): undefined reference to `cuda_get_device'\n",
            "tmpxft_000002c1_00000000-6_network_kernels.compute_61.cudafe1.cpp:(.text+0x29e4): undefined reference to `cuda_push_array'\n",
            "tmpxft_000002c1_00000000-6_network_kernels.compute_61.cudafe1.cpp:(.text+0x2a2e): undefined reference to `get_cuda_stream'\n",
            "tmpxft_000002c1_00000000-6_network_kernels.compute_61.cudafe1.cpp:(.text+0x2a50): undefined reference to `check_error_extended'\n",
            "tmpxft_000002c1_00000000-6_network_kernels.compute_61.cudafe1.cpp:(.text+0x2ab0): undefined reference to `reset_wait_stream_events'\n",
            "tmpxft_000002c1_00000000-6_network_kernels.compute_61.cudafe1.cpp:(.text+0x2ad8): undefined reference to `switch_stream'\n",
            "tmpxft_000002c1_00000000-6_network_kernels.compute_61.cudafe1.cpp:(.text+0x2ae5): undefined reference to `switch_stream'\n",
            "tmpxft_000002c1_00000000-6_network_kernels.compute_61.cudafe1.cpp:(.text+0x2b07): undefined reference to `check_error_extended'\n",
            "tmpxft_000002c1_00000000-6_network_kernels.compute_61.cudafe1.cpp:(.text+0x2b37): undefined reference to `check_error_extended'\n",
            "tmpxft_000002c1_00000000-6_network_kernels.compute_61.cudafe1.cpp:(.text+0x2b47): undefined reference to `cuda_push_array'\n",
            "tmpxft_000002c1_00000000-6_network_kernels.compute_61.cudafe1.cpp:(.text+0x2b9e): undefined reference to `switch_stream'\n",
            "tmpxft_000002c1_00000000-6_network_kernels.compute_61.cudafe1.cpp:(.text+0x2bc7): undefined reference to `check_error_extended'\n",
            "tmpxft_000002c1_00000000-6_network_kernels.compute_61.cudafe1.cpp:(.text+0x2bfb): undefined reference to `check_error_extended'\n",
            "tmpxft_000002c1_00000000-6_network_kernels.compute_61.cudafe1.cpp:(.text+0x2c2e): undefined reference to `check_error_extended'\n",
            "tmpxft_000002c1_00000000-6_network_kernels.compute_61.cudafe1.cpp:(.text+0x2c43): undefined reference to `switch_stream'\n",
            "tmpxft_000002c1_00000000-6_network_kernels.compute_61.cudafe1.cpp:(.text+0x2c71): undefined reference to `check_error_extended'\n",
            "tmpxft_000002c1_00000000-6_network_kernels.compute_61.cudafe1.cpp:(.text+0x2c98): undefined reference to `check_error_extended'\n",
            "obj/network_kernels.o: In function `pull_updates(layer)':\n",
            "tmpxft_000002c1_00000000-6_network_kernels.compute_61.cudafe1.cpp:(.text+0x18f1): undefined reference to `cuda_pull_array'\n",
            "tmpxft_000002c1_00000000-6_network_kernels.compute_61.cudafe1.cpp:(.text+0x1925): undefined reference to `cuda_pull_array'\n",
            "obj/network_kernels.o: In function `push_updates(layer)':\n",
            "tmpxft_000002c1_00000000-6_network_kernels.compute_61.cudafe1.cpp:(.text+0x19c1): undefined reference to `cuda_push_array'\n",
            "tmpxft_000002c1_00000000-6_network_kernels.compute_61.cudafe1.cpp:(.text+0x19f5): undefined reference to `cuda_push_array'\n",
            "obj/network_kernels.o: In function `pull_weights(layer)':\n",
            "tmpxft_000002c1_00000000-6_network_kernels.compute_61.cudafe1.cpp:(.text+0x1d61): undefined reference to `cuda_pull_array'\n",
            "tmpxft_000002c1_00000000-6_network_kernels.compute_61.cudafe1.cpp:(.text+0x1d95): undefined reference to `cuda_pull_array'\n",
            "obj/network_kernels.o: In function `push_weights(layer)':\n",
            "tmpxft_000002c1_00000000-6_network_kernels.compute_61.cudafe1.cpp:(.text+0x1e31): undefined reference to `cuda_push_array'\n",
            "tmpxft_000002c1_00000000-6_network_kernels.compute_61.cudafe1.cpp:(.text+0x1e65): undefined reference to `cuda_push_array'\n",
            "obj/network_kernels.o: In function `distribute_weights(layer, layer)':\n",
            "tmpxft_000002c1_00000000-6_network_kernels.compute_61.cudafe1.cpp:(.text+0x1f01): undefined reference to `cuda_push_array'\n",
            "tmpxft_000002c1_00000000-6_network_kernels.compute_61.cudafe1.cpp:(.text+0x1f35): undefined reference to `cuda_push_array'\n",
            "obj/network_kernels.o: In function `distribute_updates(layer, layer)':\n",
            "tmpxft_000002c1_00000000-6_network_kernels.compute_61.cudafe1.cpp:(.text+0x2101): undefined reference to `cuda_push_array'\n",
            "obj/network_kernels.o:tmpxft_000002c1_00000000-6_network_kernels.compute_61.cudafe1.cpp:(.text+0x2135): more undefined references to `cuda_push_array' follow\n",
            "obj/avgpool_layer_kernels.o: In function `forward_avgpool_layer_gpu':\n",
            "tmpxft_000002f0_00000000-6_avgpool_layer_kernels.compute_61.cudafe1.cpp:(.text+0x197): undefined reference to `get_cuda_stream'\n",
            "tmpxft_000002f0_00000000-6_avgpool_layer_kernels.compute_61.cudafe1.cpp:(.text+0x1bc): undefined reference to `cuda_gridsize'\n",
            "obj/avgpool_layer_kernels.o: In function `backward_avgpool_layer_gpu':\n",
            "tmpxft_000002f0_00000000-6_avgpool_layer_kernels.compute_61.cudafe1.cpp:(.text+0x3b7): undefined reference to `get_cuda_stream'\n",
            "tmpxft_000002f0_00000000-6_avgpool_layer_kernels.compute_61.cudafe1.cpp:(.text+0x3dc): undefined reference to `cuda_gridsize'\n",
            "obj/avgpool_layer_kernels.o: In function `forward_avgpool_layer_gpu':\n",
            "tmpxft_000002f0_00000000-6_avgpool_layer_kernels.compute_61.cudafe1.cpp:(.text+0x228): undefined reference to `check_error_extended'\n",
            "obj/avgpool_layer_kernels.o: In function `backward_avgpool_layer_gpu':\n",
            "tmpxft_000002f0_00000000-6_avgpool_layer_kernels.compute_61.cudafe1.cpp:(.text+0x448): undefined reference to `check_error_extended'\n",
            "collect2: error: ld returned 1 exit status\n",
            "Makefile:176: recipe for target 'darknet' failed\n",
            "make: *** [darknet] Error 1\n"
          ]
        }
      ]
    },
    {
      "cell_type": "code",
      "metadata": {
        "colab": {
          "base_uri": "https://localhost:8080/"
        },
        "id": "aYoV-tj9ErQy",
        "outputId": "8b4b01dc-d5e6-48a6-b06a-cb67d1ceb251"
      },
      "source": [
        "!darknet/darknet"
      ],
      "execution_count": null,
      "outputs": [
        {
          "output_type": "stream",
          "name": "stdout",
          "text": [
            "/bin/bash: darknet/darknet: No such file or directory\n"
          ]
        }
      ]
    },
    {
      "cell_type": "code",
      "metadata": {
        "colab": {
          "base_uri": "https://localhost:8080/"
        },
        "id": "NS84V_uDBWIa",
        "outputId": "63b33bcd-9b07-459f-b26c-c9be322bfe7c"
      },
      "source": [
        "%cd /content/drive/My Drive/yolo_custom_model_Traning"
      ],
      "execution_count": null,
      "outputs": [
        {
          "output_type": "stream",
          "name": "stdout",
          "text": [
            "/content/drive/My Drive/yolo_custom_model_Traning\n"
          ]
        }
      ]
    },
    {
      "cell_type": "code",
      "metadata": {
        "colab": {
          "base_uri": "https://localhost:8080/"
        },
        "id": "CEFij89YorzV",
        "outputId": "3c964759-5716-4cc4-ba3d-e0f237d3a5b1"
      },
      "source": [
        "!chmod 755 custom_data/creating-files-data-and-name.py"
      ],
      "execution_count": null,
      "outputs": [
        {
          "output_type": "stream",
          "name": "stdout",
          "text": [
            "chmod: cannot access 'custom_data/creating-files-data-and-name.py': No such file or directory\n"
          ]
        }
      ]
    },
    {
      "cell_type": "code",
      "metadata": {
        "id": "ZYcIFFmtBoCw"
      },
      "source": [
        "!python custom_data/creating-files-data-and-name.py"
      ],
      "execution_count": null,
      "outputs": []
    },
    {
      "cell_type": "code",
      "metadata": {
        "id": "2v6JLFwgCEzn"
      },
      "source": [
        "!python custom_data/creating-train-and-test-txt-files.py"
      ],
      "execution_count": null,
      "outputs": []
    },
    {
      "cell_type": "code",
      "metadata": {
        "colab": {
          "base_uri": "https://localhost:8080/"
        },
        "id": "j-AUPnafCLYI",
        "outputId": "979c0ac0-1ada-4f90-dacf-618a726dbce3"
      },
      "source": [
        "%cd /content/drive/My Drive/yolo_custom_model_Traning"
      ],
      "execution_count": null,
      "outputs": [
        {
          "output_type": "stream",
          "name": "stdout",
          "text": [
            "/content/drive/My Drive/yolo_custom_model_Traning\n"
          ]
        }
      ]
    },
    {
      "cell_type": "code",
      "metadata": {
        "colab": {
          "base_uri": "https://localhost:8080/"
        },
        "id": "f5wxnJIJr9w4",
        "outputId": "5586367f-31fc-431c-aca2-08eb293dd9b5"
      },
      "source": [
        "!darknet/darknet detector train custom_data/labelled_data.data darknet/cfg/yolov3_custom.cfg custom_weight/darknet53.conv.74 -dont_show "
      ],
      "execution_count": null,
      "outputs": [
        {
          "output_type": "stream",
          "name": "stdout",
          "text": [
            "/bin/bash: darknet/darknet: Not a directory\n"
          ]
        }
      ]
    },
    {
      "cell_type": "code",
      "metadata": {
        "colab": {
          "base_uri": "https://localhost:8080/"
        },
        "id": "IxO07mD9JkzP",
        "outputId": "b5535e4c-f1a7-4961-f68a-c05d8e945760"
      },
      "source": [
        "!ls"
      ],
      "execution_count": null,
      "outputs": [
        {
          "output_type": "stream",
          "name": "stdout",
          "text": [
            "backup\tcustom_data  custom_data.zip  custom_weight  darknet\n"
          ]
        }
      ]
    },
    {
      "cell_type": "code",
      "metadata": {
        "id": "i0LvNLLRHvZg"
      },
      "source": [
        "import cv2"
      ],
      "execution_count": null,
      "outputs": []
    }
  ]
}